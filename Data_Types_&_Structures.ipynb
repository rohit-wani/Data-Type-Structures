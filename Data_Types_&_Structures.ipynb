{
  "nbformat": 4,
  "nbformat_minor": 0,
  "metadata": {
    "colab": {
      "provenance": []
    },
    "kernelspec": {
      "name": "python3",
      "display_name": "Python 3"
    },
    "language_info": {
      "name": "python"
    }
  },
  "cells": [
    {
      "cell_type": "markdown",
      "source": [
        "# Data Types & Structures\n",
        "\n"
      ],
      "metadata": {
        "id": "UOcofAuA-g4_"
      }
    },
    {
      "cell_type": "markdown",
      "source": [
        "1. What are data structures, and why are they important?\n",
        "   - Data structures are specialized formats for organizing, processing, storing, and retrieving data efficiently. They define the way data is arranged in memory so that it can be used effectively for various algorithms and operations.\n",
        "  Why Data Structures Are Important:\n",
        "  Efficiency,Algorithm Optimization,Data Organization,Real-World Applications\n",
        "\n",
        "2. Explain the difference between mutable and immutable data types with examples?\n",
        "   - The key difference between mutable and immutable data types is whether or not their contents (i.e., values) can be changed after the object is created.\n",
        "   Mutable Data Types Examples:\n",
        "   my_list = [1, 2, 3]\n",
        "my_list[0] = 10\n",
        "print(my_list)  # Output: [10, 2, 3]\n",
        "   Immutable Data Types Example:\n",
        "   a = (1, 2, 3)\n",
        "a[0] = 10  # This will raise a TypeError because tuples are immutable\n",
        "\n",
        "3. What are the main differences between lists and tuples in Python?\n",
        "   - Lists are Mutable & Tuples are immutable.\n",
        "   - Lists are suitable for dynamic data & Tuples are suitable for constant data.\n",
        "\n",
        "4. Describe how dictionaries store data.\n",
        "   - In Python, dictionaries store data as key-value pairs using a highly efficient data structure called a hash table.\n",
        "   \n",
        "   ✅ Structure of a Dictionary:\n",
        "A dictionary in Python looks like this:\n",
        "\n",
        "my_dict = {\"name\": \"Alice\", \"age\": 30, \"city\": \"New York\"}\n",
        "\n",
        "Each entry is a key-value pair.\n",
        "\n",
        "Keys must be immutable and unique (e.g., strings, numbers, tuples).\n",
        "\n",
        "Values can be of any data type and can be duplicated.\n",
        "\n",
        "5.  Why might you use a set instead of a list in Python?\n",
        "    - Uniqueness of Elements\n",
        "    - No Need to Maintain Order\n",
        "\n",
        "6. What is a string in Python, and how is it different from a list?\n",
        "   - In Python, a string is a sequence of characters enclosed in quotes (single, double, or triple). It's a built-in, immutable data type used to represent text.\n",
        "   - Lists are Mutable & String is immutable.\n",
        "   - Editing is not allowed in String & it is allowed in List.\n",
        "\n",
        "7. How do tuples ensure data integrity in Python?\n",
        "   - Tuples ensure data integrity in Python primarily through immutability—once a tuple is created, its contents cannot be modified. This property makes them a reliable way to store fixed collections of items where consistency and safety are important.\n",
        "\n",
        "8. What is a hash table, and how does it relate to dictionaries in Python?\n",
        "   - A hash table is a data structure that maps keys to values using a process called hashing. It allows for very fast data access, often in constant time (O(1)) on average.\n",
        "   - In Python 3, the built-in dict type is implemented using a hash table.\n",
        "\n",
        "9. Can lists contain different data types in Python?\n",
        "   - Yes, lists in Python can contain elements of different data types. This is one of the key features that makes Python lists flexible and powerful.\n",
        "\n",
        "10. Explain why strings are immutable in Python.\n",
        "    - Once a string is created, its content cannot be changed.\n",
        "\n",
        "    - Any operation that seems to modify a string actually creates a new string object.\n",
        "\n",
        "11. What advantages do dictionaries offer over lists for certain tasks?\n",
        "    - Dictionaries use hash tables, so accessing an item by key is on average O(1) — very fast. Lists require O(n) time to find an item by value or index lookup.\n",
        "    - Dictionaries store data as key-value pairs, which makes them perfect for representing mappings, like {username: email}, while lists only store ordered items.\n",
        "    - When you don’t care about order but want to retrieve data by meaningful keys, dictionaries are more natural and efficient.\n",
        "\n",
        "12. Describe a scenario where using a tuple would be preferable over a list.\n",
        "    - Example:\n",
        "\n",
        "Consider a scenario where you need to store the geographical coordinates of a location:\n",
        "\n",
        "location = (19.0760, 72.8777)  # Latitude and Longitude of Mumbai\n",
        "\n",
        "In this case, using a tuple is appropriate because the coordinates are fixed and should not change. Using a tuple communicates the intent that this data is constant and provides the benefits mentioned above.\n",
        "\n",
        "In contrast, if you need a collection of items that may change over time, such as a list of users that can be added or removed, a list would be more appropriate.\n",
        "\n",
        "In summary, choose a tuple when you need an immutable, fixed-size collection of related data, and choose a list when you need a mutable, dynamic collection.\n",
        "\n",
        "13. How do sets handle duplicate values in Python?\n",
        "    - In Python, a set is a built-in data structure that automatically handles duplicate values by storing only unique elements. If you attempt to add a duplicate item to a set, Python will ignore the addition and maintain the existing set unchanged.\n",
        "\n",
        "14. How does the “in” keyword work differently for lists and dictionaries?\n",
        "    - In Python, the in keyword serves to check for the presence of an element within a collection. However, its behavior differs between lists and dictionaries due to the underlying data structures.\n",
        "\n",
        "15. Can you modify the elements of a tuple? Explain why or why not?\n",
        "    - No, you cannot modify the elements of a tuple in Python. Tuples are immutable, meaning once they are created, their contents cannot be changed, added, or removed. This immutability ensures that the data stored in a tuple remains constant throughout the program, providing reliability and consistency.\n",
        "    - Tuples are intended to be used for fixed collections of items, where the integrity of the data must be maintained. Allowing modification would defeat this purpose.\n",
        "\n",
        "16. What is a nested dictionary, and give an example of its use case?\n",
        "    - A nested dictionary is essentially a dictionary within another dictionary. Each key in the outer dictionary points to another dictionary, which can contain its own keys and values.\n",
        "    - myfamily = {\n",
        "   \"child1\": {\"name\": \"Emil\", \"year\": 2004},\n",
        "\n",
        "    \"child2\": {\"name\": \"Tobias\", \"year\": 2007},\n",
        "\n",
        "    \"child3\": {\"name\": \"Linus\", \"year\": 2011}\n",
        "}\n",
        "\n",
        "17.  Describe the time complexity of accessing elements in a dictionary.\n",
        "     - In Python, dictionaries are implemented using hash tables, which provide efficient key-value pair storage and retrieval. The time complexity of accessing elements in a dictionary is generally O(1), meaning that the time taken to access a value by its key is constant, regardless of the size of the dictionary.\n",
        "\n",
        "18.  In what situations are lists preferred over dictionaries?\n",
        "     - Use lists over dictionaries when you need an ordered collection of items that can contain duplicates and are accessed by their position.\n",
        "\n",
        "19. Why are dictionaries considered unordered, and how does that affect data retrieval?\n",
        "    - Starting from Python 3.7, dictionaries maintain the insertion order of key-value pairs, so they are considered ordered collections; this allows predictable iteration but doesn't support indexing or slicing like lists.\n",
        "\n",
        "20. Explain the difference between a list and a dictionary in terms of data retrieval.\n",
        "    - In Python, lists are ordered collections accessed by integer indices, allowing duplicates, while dictionaries are unordered collections accessed by unique keys, supporting key-value pairs."
      ],
      "metadata": {
        "id": "Z3rzX0ZY-vbz"
      }
    },
    {
      "cell_type": "code",
      "source": [
        "# 1. Write a code to create a string with your name and print it.\n",
        "\n",
        "my_name = \"Rohit\"\n",
        "print(my_name)"
      ],
      "metadata": {
        "colab": {
          "base_uri": "https://localhost:8080/"
        },
        "id": "Jzwl2yCRI4RR",
        "outputId": "d3742f8e-17f7-481b-91fa-b7f18f650cf1"
      },
      "execution_count": 1,
      "outputs": [
        {
          "output_type": "stream",
          "name": "stdout",
          "text": [
            "Rohit\n"
          ]
        }
      ]
    },
    {
      "cell_type": "code",
      "source": [
        "# 2. Write a code to find the length of the string \"Hello World\".\n",
        "len (\"Hello World\")"
      ],
      "metadata": {
        "colab": {
          "base_uri": "https://localhost:8080/"
        },
        "id": "YIGHn-s5I9dl",
        "outputId": "b91f2a19-f848-4f89-fc1d-ecc383260eb1"
      },
      "execution_count": 2,
      "outputs": [
        {
          "output_type": "execute_result",
          "data": {
            "text/plain": [
              "11"
            ]
          },
          "metadata": {},
          "execution_count": 2
        }
      ]
    },
    {
      "cell_type": "code",
      "source": [
        "# 3. Write a code to slice the first 3 characters from the string \"Python Programming\".\n",
        "str = \"Python Programming\"\n",
        "str[0:3]\n"
      ],
      "metadata": {
        "colab": {
          "base_uri": "https://localhost:8080/",
          "height": 35
        },
        "id": "IKUcXirfJWFA",
        "outputId": "b145f54a-8f2a-41a6-f3dc-dd8ac977ffc4"
      },
      "execution_count": 3,
      "outputs": [
        {
          "output_type": "execute_result",
          "data": {
            "text/plain": [
              "'Pyt'"
            ],
            "application/vnd.google.colaboratory.intrinsic+json": {
              "type": "string"
            }
          },
          "metadata": {},
          "execution_count": 3
        }
      ]
    },
    {
      "cell_type": "code",
      "source": [
        "# 4. Write a code to convert the string \"hello\" to uppercase.\n",
        "str = \"hello\"\n",
        "str.upper()"
      ],
      "metadata": {
        "colab": {
          "base_uri": "https://localhost:8080/",
          "height": 35
        },
        "id": "ntXHBy7BJfMr",
        "outputId": "3469ee71-bb14-4e4b-982b-dada23a82328"
      },
      "execution_count": 4,
      "outputs": [
        {
          "output_type": "execute_result",
          "data": {
            "text/plain": [
              "'HELLO'"
            ],
            "application/vnd.google.colaboratory.intrinsic+json": {
              "type": "string"
            }
          },
          "metadata": {},
          "execution_count": 4
        }
      ]
    },
    {
      "cell_type": "code",
      "source": [
        "# 5. Write a code to replace the word \"apple\" with \"orange\" in the string \"I like apple\".\n",
        "str = \"I like apple\"\n",
        "str.replace(\"apple\",\"orange\")"
      ],
      "metadata": {
        "colab": {
          "base_uri": "https://localhost:8080/",
          "height": 35
        },
        "id": "M-qN3YVGJlS2",
        "outputId": "400843cd-c70d-4628-bbf8-444886ce1fb0"
      },
      "execution_count": 5,
      "outputs": [
        {
          "output_type": "execute_result",
          "data": {
            "text/plain": [
              "'I like orange'"
            ],
            "application/vnd.google.colaboratory.intrinsic+json": {
              "type": "string"
            }
          },
          "metadata": {},
          "execution_count": 5
        }
      ]
    },
    {
      "cell_type": "code",
      "source": [
        "# 6. Write a code to create a list with numbers 1 to 5 and print it.\n",
        "my_list = [1,2,3,4,5]\n",
        "print(my_list)"
      ],
      "metadata": {
        "colab": {
          "base_uri": "https://localhost:8080/"
        },
        "id": "J7XVaxcBJrPL",
        "outputId": "e01e9848-8602-47fe-8ed8-126b28077929"
      },
      "execution_count": 6,
      "outputs": [
        {
          "output_type": "stream",
          "name": "stdout",
          "text": [
            "[1, 2, 3, 4, 5]\n"
          ]
        }
      ]
    },
    {
      "cell_type": "code",
      "source": [
        "# 7. Write a code to append the number 10 to the list [1, 2, 3, 4].\n",
        "my_list = [1,2,3,4]\n",
        "my_list.append(10)\n",
        "print(my_list)"
      ],
      "metadata": {
        "colab": {
          "base_uri": "https://localhost:8080/"
        },
        "id": "I8Jc98q4JyUG",
        "outputId": "8d98a389-ae1d-414e-cab4-f579ad54022a"
      },
      "execution_count": 7,
      "outputs": [
        {
          "output_type": "stream",
          "name": "stdout",
          "text": [
            "[1, 2, 3, 4, 10]\n"
          ]
        }
      ]
    },
    {
      "cell_type": "code",
      "source": [
        "# 8. Write a code to remove the number 3 from the list [1, 2, 3, 4, 5].\n",
        "my_list = [1,2,3,4,5]\n",
        "my_list.remove(3)\n",
        "print(my_list)"
      ],
      "metadata": {
        "colab": {
          "base_uri": "https://localhost:8080/"
        },
        "id": "mxYM_amHJ5kt",
        "outputId": "b37d9501-7123-448b-c315-ee0451a8f607"
      },
      "execution_count": 8,
      "outputs": [
        {
          "output_type": "stream",
          "name": "stdout",
          "text": [
            "[1, 2, 4, 5]\n"
          ]
        }
      ]
    },
    {
      "cell_type": "code",
      "source": [
        "# 9. Write a code to access the second element in the list ['a', 'b', 'c', 'd']\n",
        "my_list = ['a', 'b', 'c', 'd']\n",
        "my_list[1]"
      ],
      "metadata": {
        "colab": {
          "base_uri": "https://localhost:8080/",
          "height": 35
        },
        "id": "gVoK69vBJ_hM",
        "outputId": "cbca6016-8cdd-4424-d486-2edbfd30ad0c"
      },
      "execution_count": 9,
      "outputs": [
        {
          "output_type": "execute_result",
          "data": {
            "text/plain": [
              "'b'"
            ],
            "application/vnd.google.colaboratory.intrinsic+json": {
              "type": "string"
            }
          },
          "metadata": {},
          "execution_count": 9
        }
      ]
    },
    {
      "cell_type": "code",
      "source": [
        "# 10. Write a code to reverse the list [10, 20, 30, 40, 50].\n",
        "my_list = [10, 20, 30, 40, 50]\n",
        "my_list.reverse()\n",
        "print(my_list)"
      ],
      "metadata": {
        "colab": {
          "base_uri": "https://localhost:8080/"
        },
        "id": "YCokuaDNKGIK",
        "outputId": "f94b3a4a-5e09-4287-d992-8943fde01f25"
      },
      "execution_count": 10,
      "outputs": [
        {
          "output_type": "stream",
          "name": "stdout",
          "text": [
            "[50, 40, 30, 20, 10]\n"
          ]
        }
      ]
    },
    {
      "cell_type": "code",
      "source": [
        "# 11. Write a code to create a tuple with the elements 100, 200, 300 and print it.\n",
        "tuple = (100, 200, 300)\n",
        "print (tuple)"
      ],
      "metadata": {
        "colab": {
          "base_uri": "https://localhost:8080/"
        },
        "id": "dHoKfNJbKK_0",
        "outputId": "647444bb-0325-4ef6-a37d-ca665275c227"
      },
      "execution_count": 11,
      "outputs": [
        {
          "output_type": "stream",
          "name": "stdout",
          "text": [
            "(100, 200, 300)\n"
          ]
        }
      ]
    },
    {
      "cell_type": "code",
      "source": [
        "# 12. Write a code to access the second-to-last element of the tuple ('red', 'green', 'blue', 'yellow')\n",
        "tuple = ('red', 'green', 'blue', 'yellow')\n",
        "tuple[-2]"
      ],
      "metadata": {
        "colab": {
          "base_uri": "https://localhost:8080/",
          "height": 35
        },
        "id": "g1sFK5xUKbu7",
        "outputId": "11139961-46c2-456d-eb49-b4608f2e721e"
      },
      "execution_count": 12,
      "outputs": [
        {
          "output_type": "execute_result",
          "data": {
            "text/plain": [
              "'blue'"
            ],
            "application/vnd.google.colaboratory.intrinsic+json": {
              "type": "string"
            }
          },
          "metadata": {},
          "execution_count": 12
        }
      ]
    },
    {
      "cell_type": "code",
      "source": [
        "# 13. Write a code to find the minimum number in the tuple (10, 20, 5, 15).\n",
        "numbers = (10, 20, 5, 15)\n",
        "min_number = min(numbers)\n",
        "print(\"The minimum number is:\", min_number)\n",
        "\n"
      ],
      "metadata": {
        "colab": {
          "base_uri": "https://localhost:8080/"
        },
        "id": "4Y2UCJTpKkFp",
        "outputId": "64093713-b418-40d0-de71-4370d02ea293"
      },
      "execution_count": 13,
      "outputs": [
        {
          "output_type": "stream",
          "name": "stdout",
          "text": [
            "The minimum number is: 5\n"
          ]
        }
      ]
    },
    {
      "cell_type": "code",
      "source": [
        "# 14. Write a code to find the index of the element \"cat\" in the tuple ('dog', 'cat', 'rabbit').\n",
        "animals = ('dog', 'cat', 'rabbit')\n",
        "index_of_cat = animals.index('cat')\n",
        "print(\"The index of 'cat' is:\", index_of_cat)"
      ],
      "metadata": {
        "colab": {
          "base_uri": "https://localhost:8080/"
        },
        "id": "vSi8ZuxqKuSi",
        "outputId": "ce686d8d-1e22-4c7f-e50b-714a76123258"
      },
      "execution_count": 18,
      "outputs": [
        {
          "output_type": "stream",
          "name": "stdout",
          "text": [
            "The index of 'cat' is: 1\n"
          ]
        }
      ]
    },
    {
      "cell_type": "code",
      "source": [
        "# 15. Write a code to create a tuple containing three different fruits and check if \"kiwi\" is in it.\n",
        "\n",
        "fruits = (\"apple\", \"banana\", \"cherry\")\n",
        "\n",
        "if \"kiwi\" in fruits:\n",
        "  print(\"kiwi is in the tuple\")\n",
        "else:\n",
        "  print(\"kiwi is not in the tuple\")"
      ],
      "metadata": {
        "colab": {
          "base_uri": "https://localhost:8080/"
        },
        "id": "SixK2MBNK9b3",
        "outputId": "bf141f6f-b109-4246-ffde-bfc52b46b694"
      },
      "execution_count": 19,
      "outputs": [
        {
          "output_type": "stream",
          "name": "stdout",
          "text": [
            "kiwi is not in the tuple\n"
          ]
        }
      ]
    },
    {
      "cell_type": "code",
      "source": [
        "# 16. Write a code to create a set with the elements 'a', 'b', 'c' and print it.\n",
        "my_set = {'a', 'b', 'c'}\n",
        "print(my_set)"
      ],
      "metadata": {
        "colab": {
          "base_uri": "https://localhost:8080/"
        },
        "id": "5wjGqXuMLf1F",
        "outputId": "3fe37570-ca7c-4a1a-ec84-62f86e5a1e9d"
      },
      "execution_count": 20,
      "outputs": [
        {
          "output_type": "stream",
          "name": "stdout",
          "text": [
            "{'a', 'c', 'b'}\n"
          ]
        }
      ]
    },
    {
      "cell_type": "code",
      "source": [
        "# 17. Write a code to clear all elements from the set {1, 2, 3, 4, 5}.\n",
        "my_set = {1, 2, 3, 4, 5}\n",
        "my_set.clear()\n",
        "print(my_set)"
      ],
      "metadata": {
        "colab": {
          "base_uri": "https://localhost:8080/"
        },
        "id": "d0fGj3-0Lfur",
        "outputId": "3558f2f2-2e8e-4a8d-80e6-b324d39564c8"
      },
      "execution_count": 21,
      "outputs": [
        {
          "output_type": "stream",
          "name": "stdout",
          "text": [
            "set()\n"
          ]
        }
      ]
    },
    {
      "cell_type": "code",
      "source": [
        "# 18. Write a code to remove the element 4 from the set {1, 2, 3, 4}.\n",
        "my_set = {1, 2, 3, 4}\n",
        "my_set.remove(4)\n",
        "print(my_set)"
      ],
      "metadata": {
        "colab": {
          "base_uri": "https://localhost:8080/"
        },
        "id": "QreUpVC0Lypa",
        "outputId": "a196957a-05c1-4aed-cac3-2cfcad58973c"
      },
      "execution_count": 22,
      "outputs": [
        {
          "output_type": "stream",
          "name": "stdout",
          "text": [
            "{1, 2, 3}\n"
          ]
        }
      ]
    },
    {
      "cell_type": "code",
      "source": [
        "# 19. Write a code to find the union of two sets {1, 2, 3} and {3, 4, 5}.\n",
        "set1 = {1, 2, 3}\n",
        "set2 = {3, 4, 5}\n",
        "union_set = set1.union(set2)\n",
        "print(union_set)"
      ],
      "metadata": {
        "colab": {
          "base_uri": "https://localhost:8080/"
        },
        "id": "p0HGW5TGL4l3",
        "outputId": "e70cba0c-02e7-48e2-c8ca-474a75a22b86"
      },
      "execution_count": 23,
      "outputs": [
        {
          "output_type": "stream",
          "name": "stdout",
          "text": [
            "{1, 2, 3, 4, 5}\n"
          ]
        }
      ]
    },
    {
      "cell_type": "code",
      "source": [
        "# 20. Write a code to find the intersection of two sets {1, 2, 3} and {2, 3, 4}.\n",
        "set1 = {1, 2, 3}\n",
        "set2 = {2, 3, 4}\n",
        "intersection_set = set1.intersection(set2)\n",
        "print(intersection_set)"
      ],
      "metadata": {
        "colab": {
          "base_uri": "https://localhost:8080/"
        },
        "id": "wFRwdBL4L_Y7",
        "outputId": "ea4d3004-cd17-47bc-ca1f-07cc8f849191"
      },
      "execution_count": 24,
      "outputs": [
        {
          "output_type": "stream",
          "name": "stdout",
          "text": [
            "{2, 3}\n"
          ]
        }
      ]
    },
    {
      "cell_type": "code",
      "source": [
        "# 21. Write a code to create a dictionary with the keys \"name\", \"age\", and \"city\", and print it.\n",
        "my_dict = {\"name\": \"Rohit\", \"age\": 30, \"city\": \"Pune\"}\n",
        "print(my_dict)"
      ],
      "metadata": {
        "colab": {
          "base_uri": "https://localhost:8080/"
        },
        "id": "MFVygKT2MEIt",
        "outputId": "5992be82-2bf8-4a07-ee60-13031457796d"
      },
      "execution_count": 25,
      "outputs": [
        {
          "output_type": "stream",
          "name": "stdout",
          "text": [
            "{'name': 'Rohit', 'age': 30, 'city': 'Pune'}\n"
          ]
        }
      ]
    },
    {
      "cell_type": "code",
      "source": [
        "# 22. Write a code to add a new key-value pair \"country\": \"USA\" to the dictionary {'name': 'John', 'age': 25}.\n",
        "my_dict = {'name': 'John', 'age': 25}\n",
        "my_dict[\"country\"] = \"USA\"\n",
        "print(my_dict)"
      ],
      "metadata": {
        "colab": {
          "base_uri": "https://localhost:8080/"
        },
        "id": "CWe5e1H4MNQp",
        "outputId": "d205c674-29e1-46d1-8f44-a1cad219438d"
      },
      "execution_count": 26,
      "outputs": [
        {
          "output_type": "stream",
          "name": "stdout",
          "text": [
            "{'name': 'John', 'age': 25, 'country': 'USA'}\n"
          ]
        }
      ]
    },
    {
      "cell_type": "code",
      "source": [
        "# 23. Write a code to access the value associated with the key \"name\" in the dictionary {'name': 'Alice', 'age': 30}.\n",
        "my_dict = {'name': 'Alice', 'age': 30}\n",
        "value = my_dict[\"name\"]\n",
        "print(value)\n"
      ],
      "metadata": {
        "colab": {
          "base_uri": "https://localhost:8080/"
        },
        "id": "XHJeVrTHMTr3",
        "outputId": "3e962331-c2f0-4c3a-e391-a246abee9deb"
      },
      "execution_count": 27,
      "outputs": [
        {
          "output_type": "stream",
          "name": "stdout",
          "text": [
            "Alice\n"
          ]
        }
      ]
    },
    {
      "cell_type": "code",
      "source": [
        "# 24. Write a code to remove the key \"age\" from the dictionary {'name': 'Bob', 'age': 22, 'city': 'New York'}.\n",
        "my_dict = {'name': 'Bob', 'age': 22, 'city': 'New York'}\n",
        "del my_dict[\"age\"]\n",
        "print(my_dict)"
      ],
      "metadata": {
        "colab": {
          "base_uri": "https://localhost:8080/"
        },
        "id": "44YO8JJ1Ma8c",
        "outputId": "49e6e24c-2b3a-4aea-cfd5-d98d88fe4d42"
      },
      "execution_count": 28,
      "outputs": [
        {
          "output_type": "stream",
          "name": "stdout",
          "text": [
            "{'name': 'Bob', 'city': 'New York'}\n"
          ]
        }
      ]
    },
    {
      "cell_type": "code",
      "source": [
        "# 25. Write a code to check if the key \"city\" exists in the dictionary {'name': 'Alice', 'city': 'Paris'}\n",
        "my_dict = {'name': 'Alice', 'city': 'Paris'}\n",
        "if \"city\" in my_dict:\n",
        "    print(\"The key 'city' exists in the dictionary.\")\n",
        "else:\n",
        "    print(\"The key 'city' does not exist in the dictionary.\")\n",
        ""
      ],
      "metadata": {
        "colab": {
          "base_uri": "https://localhost:8080/"
        },
        "id": "QmcR1YCbMhhJ",
        "outputId": "b61f9b6f-1bd2-430b-bf16-12af3025c81c"
      },
      "execution_count": 29,
      "outputs": [
        {
          "output_type": "stream",
          "name": "stdout",
          "text": [
            "The key 'city' exists in the dictionary.\n"
          ]
        }
      ]
    },
    {
      "cell_type": "code",
      "source": [
        "# 26. Write a code to create a list, a tuple, and a dictionary, and print them all\n",
        "list = [1,2,3,4,5]\n",
        "print(list)\n",
        "tuple = (1,2,3,4,5)\n",
        "print(tuple)\n",
        "my_dict = {\"name\": \"Rohit\", \"age\": 30, \"city\": \"Pune\"}\n",
        "print(my_dict)\n"
      ],
      "metadata": {
        "colab": {
          "base_uri": "https://localhost:8080/"
        },
        "id": "CI7P-DCTMmnc",
        "outputId": "4b8f582f-7ff3-4b8a-baa1-e6f16111ce3d"
      },
      "execution_count": 31,
      "outputs": [
        {
          "output_type": "stream",
          "name": "stdout",
          "text": [
            "[1, 2, 3, 4, 5]\n",
            "(1, 2, 3, 4, 5)\n",
            "{'name': 'Rohit', 'age': 30, 'city': 'Pune'}\n"
          ]
        }
      ]
    },
    {
      "cell_type": "code",
      "source": [
        "# 27. Write a code to create a list of 5 random numbers between 1 and 100, sort it in ascending order, and print the\n",
        "      # result.(replaced)\n",
        "\n",
        "import random\n",
        "\n",
        "random_numbers = [random.randint(1, 100) for _ in range(5)]\n",
        "random_numbers.sort()\n",
        "print(\"Sorted List:\", random_numbers)\n"
      ],
      "metadata": {
        "colab": {
          "base_uri": "https://localhost:8080/"
        },
        "id": "pxncEJVjMqQ2",
        "outputId": "41da3a8b-214e-4935-a1e0-820e791c0365"
      },
      "execution_count": 32,
      "outputs": [
        {
          "output_type": "stream",
          "name": "stdout",
          "text": [
            "Sorted List: [26, 33, 45, 74, 87]\n"
          ]
        }
      ]
    },
    {
      "cell_type": "code",
      "source": [
        "# 28. Write a code to create a list with strings and print the element at the third index.\n",
        "my_list = [\"apple\", \"banana\", \"cherry\", \"date\", \"elderberry\"]\n",
        "print(my_list[2])"
      ],
      "metadata": {
        "colab": {
          "base_uri": "https://localhost:8080/"
        },
        "id": "UEBKojk2NCpi",
        "outputId": "d461e40b-1801-4fc7-b80c-4f0d63edb05d"
      },
      "execution_count": 33,
      "outputs": [
        {
          "output_type": "stream",
          "name": "stdout",
          "text": [
            "cherry\n"
          ]
        }
      ]
    },
    {
      "cell_type": "code",
      "source": [
        "# 29. Write a code to combine two dictionaries into one and print the result.\n",
        "dict1 = {'a': 1, 'b': 2}\n",
        "dict2 = {'c': 3, 'd': 4}\n",
        "combined_dict = {**dict1, **dict2}\n",
        "print(combined_dict)\n",
        "\n"
      ],
      "metadata": {
        "colab": {
          "base_uri": "https://localhost:8080/"
        },
        "id": "j4uGPYBDNIdH",
        "outputId": "9b9e450a-2f6e-4839-8b46-40cdf7442186"
      },
      "execution_count": 34,
      "outputs": [
        {
          "output_type": "stream",
          "name": "stdout",
          "text": [
            "{'a': 1, 'b': 2, 'c': 3, 'd': 4}\n"
          ]
        }
      ]
    },
    {
      "cell_type": "code",
      "source": [
        "# 30. Write a code to convert a list of strings into a set.\n",
        "# Sample list with duplicate strings\n",
        "fruits = [\"apple\", \"banana\", \"apple\", \"orange\", \"banana\"]\n",
        "\n",
        "# Convert list to set to remove duplicates\n",
        "unique_fruits = set(fruits)\n",
        "\n",
        "# Print the resulting set\n",
        "print(\"Unique fruits:\", unique_fruits)\n"
      ],
      "metadata": {
        "colab": {
          "base_uri": "https://localhost:8080/"
        },
        "id": "Xad_ODeaNPn6",
        "outputId": "fac1ce4b-1eb4-4735-b229-384d46470e65"
      },
      "execution_count": 35,
      "outputs": [
        {
          "output_type": "stream",
          "name": "stdout",
          "text": [
            "Unique fruits: {'apple', 'orange', 'banana'}\n"
          ]
        }
      ]
    },
    {
      "cell_type": "code",
      "source": [],
      "metadata": {
        "id": "qd10Fjf-NnDy"
      },
      "execution_count": null,
      "outputs": []
    }
  ]
}